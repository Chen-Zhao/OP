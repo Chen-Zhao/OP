{
 "cells": [
  {
   "cell_type": "code",
   "execution_count": 6,
   "metadata": {},
   "outputs": [],
   "source": [
    "from typing import Dict\n",
    "import pandas as pd\n",
    "\n",
    "import numpy as np\n",
    "import matplotlib.pyplot as plt"
   ]
  },
  {
   "cell_type": "code",
   "execution_count": 7,
   "metadata": {},
   "outputs": [],
   "source": [
    "# import pickle\n",
    "\n",
    "# with open('data/optimisation_model_rottne_data.pkl', 'rb') as f: \n",
    "#     optimisation_data, projection_point_risk = pickle.load(f)"
   ]
  },
  {
   "cell_type": "code",
   "execution_count": 8,
   "metadata": {},
   "outputs": [
    {
     "data": {
      "image/png": "[encoded data removed]",
      "text/plain": [
       "<Figure size 576x432 with 1 Axes>"
      ]
     },
     "metadata": {
      "needs_background": "light"
     },
     "output_type": "display_data"
    }
   ],
   "source": [
    "coordinates = [\n",
    "    (456, 320), # location 0 - the depot\n",
    "    (228, 0),    # location 1\n",
    "    (912, 0),    # location 2\n",
    "    (0, 80),     # location 3\n",
    "    (114, 80),   # location 4\n",
    "    (570, 160),  # location 5\n",
    "    (798, 160),  # location 6\n",
    "    (342, 240),  # location 7\n",
    "    (684, 240),  # location 8\n",
    "    (570, 400),  # location 9\n",
    "    (912, 400),  # location 10\n",
    "    (114, 480),  # location 11\n",
    "    (228, 480),  # location 12\n",
    "    (342, 560),  # location 13\n",
    "    (684, 560),  # location 14\n",
    "    (0, 640),    # location 15\n",
    "    (798, 640)]  # location 16\n",
    "\n",
    "X = np.array([x[0] for x in coordinates])\n",
    "Y = np.array([x[1] for x in coordinates])\n",
    "\n",
    "f, ax = plt.subplots(figsize = [8,6])\n",
    "for i, txt in enumerate(coordinates):\n",
    "    ax.text(X[i] + 15, Y[i]+ 15, f\"{i}\")\n",
    "\n",
    "ax.plot(X, Y, 'ko', markersize=8)\n",
    "ax.plot(X[0], Y[0], 'gX', markersize=15)\n",
    "ax.set_title(\"Routing Problem Locations\")\n",
    "plt.show()"
   ]
  },
  {
   "cell_type": "code",
   "execution_count": 9,
   "metadata": {},
   "outputs": [],
   "source": [
    "from ortools.linear_solver import pywraplp\n",
    "from ortools.sat.python import cp_model"
   ]
  },
  {
   "cell_type": "code",
   "execution_count": 124,
   "metadata": {},
   "outputs": [
    {
     "data": {
      "text/plain": [
       "array([  0, 100, 170,  90,  60,  80,  10, 110, 120,  40,  20,  70, 160,\n",
       "       130,  30, 150, 140])"
      ]
     },
     "execution_count": 124,
     "metadata": {},
     "output_type": "execute_result"
    }
   ],
   "source": [
    "# simulate data\n",
    "\n",
    "distance = [\n",
    "        [\n",
    "            0, 548, 776, 696, 582, 274, 502, 194, 308, 194, 536, 502, 388, 354,\n",
    "            468, 776, 662\n",
    "        ],\n",
    "        [\n",
    "            548, 0, 684, 308, 194, 502, 730, 354, 696, 742, 1084, 594, 480, 674,\n",
    "            1016, 868, 1210\n",
    "        ],\n",
    "        [\n",
    "            776, 684, 0, 992, 878, 502, 274, 810, 468, 742, 400, 1278, 1164,\n",
    "            1130, 788, 1552, 754\n",
    "        ],\n",
    "        [\n",
    "            696, 308, 992, 0, 114, 650, 878, 502, 844, 890, 1232, 514, 628, 822,\n",
    "            1164, 560, 1358\n",
    "        ],\n",
    "        [\n",
    "            582, 194, 878, 114, 0, 536, 764, 388, 730, 776, 1118, 400, 514, 708,\n",
    "            1050, 674, 1244\n",
    "        ],\n",
    "        [\n",
    "            274, 502, 502, 650, 536, 0, 228, 308, 194, 240, 582, 776, 662, 628,\n",
    "            514, 1050, 708\n",
    "        ],\n",
    "        [\n",
    "            502, 730, 274, 878, 764, 228, 0, 536, 194, 468, 354, 1004, 890, 856,\n",
    "            514, 1278, 480\n",
    "        ],\n",
    "        [\n",
    "            194, 354, 810, 502, 388, 308, 536, 0, 342, 388, 730, 468, 354, 320,\n",
    "            662, 742, 856\n",
    "        ],\n",
    "        [\n",
    "            308, 696, 468, 844, 730, 194, 194, 342, 0, 274, 388, 810, 696, 662,\n",
    "            320, 1084, 514\n",
    "        ],\n",
    "        [\n",
    "            194, 742, 742, 890, 776, 240, 468, 388, 274, 0, 342, 536, 422, 388,\n",
    "            274, 810, 468\n",
    "        ],\n",
    "        [\n",
    "            536, 1084, 400, 1232, 1118, 582, 354, 730, 388, 342, 0, 878, 764,\n",
    "            730, 388, 1152, 354\n",
    "        ],\n",
    "        [\n",
    "            502, 594, 1278, 514, 400, 776, 1004, 468, 810, 536, 878, 0, 114,\n",
    "            308, 650, 274, 844\n",
    "        ],\n",
    "        [\n",
    "            388, 480, 1164, 628, 514, 662, 890, 354, 696, 422, 764, 114, 0, 194,\n",
    "            536, 388, 730\n",
    "        ],\n",
    "        [\n",
    "            354, 674, 1130, 822, 708, 628, 856, 320, 662, 388, 730, 308, 194, 0,\n",
    "            342, 422, 536\n",
    "        ],\n",
    "        [\n",
    "            468, 1016, 788, 1164, 1050, 514, 514, 662, 320, 274, 388, 650, 536,\n",
    "            342, 0, 764, 194\n",
    "        ],\n",
    "        [\n",
    "            776, 868, 1552, 560, 674, 1050, 1278, 742, 1084, 810, 1152, 274,\n",
    "            388, 422, 764, 0, 798\n",
    "        ],\n",
    "        [\n",
    "            662, 1210, 754, 1358, 1244, 708, 480, 856, 514, 468, 354, 844, 730,\n",
    "            536, 194, 798, 0\n",
    "        ],\n",
    "    ]\n",
    "\n",
    "np.random.seed(123)\n",
    "node_weights = np.arange(1,18)*10\n",
    "np.random.shuffle(node_weights)\n",
    "node_weights[0] = 0\n",
    "\n",
    "n_vehicles = 3\n",
    "all_vehicles = range(n_vehicles)\n",
    "all_nodes = range(len(distance))\n",
    "all_nodes_without_depot = range(1, len(distance))\n",
    "num_nodes = len(all_nodes)\n",
    "min_vehicles_workload=300\n",
    "max_vehicles_worktime=2000\n",
    "node_weights"
   ]
  },
  {
   "cell_type": "code",
   "execution_count": 125,
   "metadata": {},
   "outputs": [],
   "source": [
    "#model = pywraplp.Solver.CreateSolver('CP-SAT')\n",
    "#model.EnableOutput()\n",
    "#solver_name = 'GUROBI_MIP'\n",
    "#model = pywraplp.Solver.CreateSolver(solver_name)\n",
    "#model.EnableOutput()\n",
    "model = cp_model.CpModel()\n"
   ]
  },
  {
   "cell_type": "code",
   "execution_count": 126,
   "metadata": {},
   "outputs": [],
   "source": [
    "x = {}\n",
    "d = {}\n",
    "u = {}\n",
    "\n",
    "for v in all_vehicles:\n",
    "    for i in all_nodes:\n",
    "        d[(v,i)] = model.NewIntVar(-1,3,'d_v%ii%i' % (v, i))\n",
    "        for j in all_nodes:\n",
    "            #x[(v, i, j)] = model.NewBoolVar('x_v%ii%ij%i' % (v, i, j))\n",
    "            x[(v, i, j)] = model.NewIntVar(0,1,'x_v%ii%ij%i' % (v, i, j))\n",
    "            \n"
   ]
  },
  {
   "cell_type": "code",
   "execution_count": 127,
   "metadata": {
    "scrolled": true
   },
   "outputs": [],
   "source": [
    "# constraint 1: leave every point exactly once\n",
    "\n",
    "for i in all_nodes_without_depot:\n",
    "    model.Add(sum(x[(v, i, j)] for j in all_nodes for v in all_vehicles) <= 1)\n",
    "\n",
    "# constraint 1: reach every point exactly once\n",
    "for j in all_nodes_without_depot:\n",
    "    model.Add(sum(x[(v, i, j)] for i in all_nodes for v in all_vehicles) <= 1)\n",
    "\n",
    "\n",
    "for v in all_vehicles: \n",
    "    for i in all_nodes:\n",
    "            model.AddAbsEquality(d[(v,i)], sum(x[(v, i, j)] for j in all_nodes )+\n",
    "                        sum(x[(v, j, i)] for j in all_nodes )-1)\n",
    "            model.Add(d[(v,i)]==1)\n",
    "            model.Add( sum(x[(v, i, j)] for j in all_nodes )<=1)\n",
    "            model.Add( sum(x[(v, j, i)] for j in all_nodes )<=1)\n",
    "            \n",
    "# constraint 2: every depot must be visited two times by each vehicle\n",
    "# leave\n",
    "for v in all_vehicles:\n",
    "    model.Add(sum(x[(v, 0, j)] for j in all_nodes_without_depot) == 1)\n",
    "# reach\n",
    "for v in all_vehicles:\n",
    "    model.Add(sum(x[(v, i, 0)] for i in all_nodes_without_depot) == 1)\n",
    "\n",
    "# constraint 3: outbound and inbound of every depot must be different\n",
    "for v in all_vehicles: \n",
    "    for i in all_nodes_without_depot:\n",
    "        model.Add((x[(v, i, 0)] +  x[(v, 0, i)]) <= 1)\n",
    "        \n",
    "for v in all_vehicles:\n",
    "    model.Add(sum([x[(v, i, i) ] for  i in all_nodes]) == 0)\n",
    "\n",
    "# constraint 3: subtour elimination constraints\n",
    "\n",
    "for v in all_vehicles:\n",
    "    for i in all_nodes:\n",
    "        u[v,i] = model.NewIntVar(0, num_nodes, 'u_v%ii%i' % (v,i))\n",
    "\n",
    "for v in all_vehicles:\n",
    "    model.Add(u[v,0] == 1)\n",
    "\n",
    "for v in all_vehicles:\n",
    "    for i in all_nodes_without_depot:\n",
    "        model.Add(u[v,i] >= 2)\n",
    "        model.Add(u[v,i] <= num_nodes)\n",
    "\n",
    "for v in all_vehicles:\n",
    "    for i in all_nodes_without_depot:\n",
    "        for j in all_nodes_without_depot:\n",
    "            model.Add(u[v,i] - u[v,j] + 1 <= (num_nodes - 1)*(1-x[v,i,j]))\n",
    "\n",
    "# constraint 4: vehicle max worktime\n",
    "\n",
    "for v in all_vehicles:\n",
    "    model.Add(sum(x[(v,i,j)]*distance[i][j]+(x[(v,i,j)]*node_weights[i]) for i in all_nodes for j in all_nodes) < max_vehicles_worktime)\n",
    "\n",
    "# constraint 5: vehicle min workload\n",
    "\n",
    "for v in all_vehicles:\n",
    "    model.Add(sum(x[(v,i,j)]*distance[i][j]+(x[(v,i,j)]*node_weights[i]) for i in all_nodes for j in all_nodes) > min_vehicles_workload)\n",
    "\n"
   ]
  },
  {
   "cell_type": "code",
   "execution_count": 128,
   "metadata": {},
   "outputs": [
    {
     "data": {
      "text/plain": [
       "'FEASIBLE'"
      ]
     },
     "execution_count": 128,
     "metadata": {},
     "output_type": "execute_result"
    }
   ],
   "source": [
    "# Minimize the total distance\n",
    "model.Maximize(sum(x[(v,i,j)]*node_weights[i] for v in all_vehicles for i in all_nodes for j in all_nodes ))\n",
    "\n",
    "\n",
    "solver = cp_model.CpSolver()\n",
    "solver.parameters.linearization_level = 0\n",
    "solver.parameters.max_time_in_seconds = 30\n",
    "solver.parameters.num_search_workers = 4\n",
    "status = solver.Solve(model)\n",
    "\n",
    "solver.StatusName()"
   ]
  },
  {
   "cell_type": "code",
   "execution_count": 129,
   "metadata": {},
   "outputs": [
    {
     "name": "stdout",
     "output_type": "stream",
     "text": [
      "0_0_4: 1; distance: 582 ;\n",
      "0_1_7: 1; distance: 354 ;\n",
      "0_3_1: 1; distance: 308 ;\n",
      "0_4_3: 1; distance: 114 ;\n",
      "0_7_0: 1; distance: 194 ;\n",
      "1_0_13: 1; distance: 354 ;\n",
      "1_12_0: 1; distance: 388 ;\n",
      "1_13_15: 1; distance: 422 ;\n",
      "1_15_12: 1; distance: 388 ;\n",
      "2_0_8: 1; distance: 308 ;\n",
      "2_2_5: 1; distance: 502 ;\n",
      "2_5_0: 1; distance: 274 ;\n",
      "2_6_2: 1; distance: 274 ;\n",
      "2_8_6: 1; distance: 194 ;\n"
     ]
    }
   ],
   "source": [
    "total = np.zeros(n_vehicles)\n",
    "for v in all_vehicles:\n",
    "    for i in all_nodes:\n",
    "        for j in all_nodes:\n",
    "            if solver.BooleanValue(x[v,i,j]):\n",
    "                total[v] += distance[i][j]\n",
    "                print(f\"{v}_{i}_{j}: {solver.Value(x[v,i,j])}; distance: {distance[i][j]} ;\")"
   ]
  },
  {
   "cell_type": "code",
   "execution_count": 118,
   "metadata": {},
   "outputs": [
    {
     "data": {
      "text/plain": [
       "array([1712., 1872., 1872.])"
      ]
     },
     "execution_count": 118,
     "metadata": {},
     "output_type": "execute_result"
    }
   ],
   "source": [
    "total"
   ]
  },
  {
   "cell_type": "code",
   "execution_count": 119,
   "metadata": {},
   "outputs": [
    {
     "data": {
      "text/plain": [
       "133.0"
      ]
     },
     "execution_count": 119,
     "metadata": {},
     "output_type": "execute_result"
    }
   ],
   "source": [
    "solver.ObjectiveValue()"
   ]
  },
  {
   "cell_type": "code",
   "execution_count": 130,
   "metadata": {
    "scrolled": false
   },
   "outputs": [
    {
     "data": {
      "image/png": "[encoded data removed]",
      "text/plain": [
       "<Figure size 576x432 with 1 Axes>"
      ]
     },
     "metadata": {
      "needs_background": "light"
     },
     "output_type": "display_data"
    }
   ],
   "source": [
    "X = np.array([x[0] for x in coordinates])\n",
    "Y = np.array([x[1] for x in coordinates])\n",
    "\n",
    "f, ax = plt.subplots(figsize = [8,6])\n",
    "for i, txt in enumerate(coordinates):\n",
    "    ax.text(X[i] + 15, Y[i]+ 15, f\"{i}\")\n",
    "\n",
    "markersizes=node_weights/10\n",
    "\n",
    "ax.plot(X[0], Y[0], 'gX', markersize=15)\n",
    "cols = [\"red\",\"blue\",\"black\"]\n",
    "for v in all_vehicles:\n",
    "    for i in all_nodes:\n",
    "        ax.plot(X[i], Y[i], 'ko', markersize=markersizes[i])\n",
    "        for j in all_nodes:\n",
    "            if solver.BooleanValue(x[v,i,j]):\n",
    "                ax.arrow(X[i],Y[i],X[j]-X[i],Y[j]-Y[i],color=cols[v])\n",
    "ax.set_title(\"Routing Problem Locations Solution\")\n",
    "plt.show()"
   ]
  },
  {
   "cell_type": "code",
   "execution_count": 99,
   "metadata": {},
   "outputs": [
    {
     "data": {
      "text/plain": [
       "array([  0,  10,  20,  30,  40,  50,  60,  70,  80,  90, 100, 110, 120,\n",
       "       130, 140, 150, 160])"
      ]
     },
     "execution_count": 99,
     "metadata": {},
     "output_type": "execute_result"
    }
   ],
   "source": [
    "markersizes"
   ]
  },
  {
   "cell_type": "code",
   "execution_count": null,
   "metadata": {},
   "outputs": [],
   "source": []
  },
  {
   "cell_type": "code",
   "execution_count": 1527,
   "metadata": {},
   "outputs": [],
   "source": [
    "def create_data_model(projection_point_risk: pd.Series,\n",
    "                      optimisation_data: Dict) -> Dict:\n",
    "    \"\"\"Stores the data for the problem.\"\"\"\n",
    "    data = {}\n",
    "    data['num_vehicles'] = 13\n",
    "    data['vehicle_max_capacities'] = [100] * data['num_vehicles'] # 2 weeks = 10 hours/day * 10 days\n",
    "    data['vehicle_min_capacities'] = [50] * data['num_vehicles'] # 1 weeks = 10 hours/day * 5 days\n",
    "    data['all_vehicles'] = range(data['num_vehicles'])\n",
    "    projection_point_risk.index = projection_point_risk.index + 1\n",
    "    data['all_nodes'] = projection_point_risk.index.tolist()\n",
    "    data['node_risks']= projection_point_risk.to_dict()\n",
    "    data['node_times']= optimisation_data['node']['time']\n",
    "    data['node_costs']= optimisation_data['node']['cost']\n",
    "    data['edge_costs']= optimisation_data['edge']['cost']\n",
    "    data['edge_times']= optimisation_data['edge']['time']\n",
    "    weight_factor = 2\n",
    "    data['values'] = {i: data['node_risks'][i]- weight_factor * data['node_costs'][i] for i in data['all_nodes']} \n",
    "    \n",
    "    return data"
   ]
  },
  {
   "cell_type": "code",
   "execution_count": null,
   "metadata": {},
   "outputs": [],
   "source": []
  },
  {
   "cell_type": "code",
   "execution_count": 17,
   "metadata": {},
   "outputs": [
    {
     "data": {
      "text/plain": [
       "projection_point_index\n",
       "959              NaN\n",
       "960              NaN\n",
       "961              NaN\n",
       "962              NaN\n",
       "963              NaN\n",
       "            ...     \n",
       "2104    2.378687e+06\n",
       "2105    4.571429e+06\n",
       "2106    2.955196e+06\n",
       "2107    7.928803e+06\n",
       "2108    5.541348e+05\n",
       "Length: 778, dtype: float64"
      ]
     },
     "execution_count": 17,
     "metadata": {},
     "output_type": "execute_result"
    }
   ],
   "source": [
    "projection_point_risk"
   ]
  },
  {
   "cell_type": "code",
   "execution_count": 4,
   "metadata": {},
   "outputs": [],
   "source": [
    "data = create_data_model(projection_point_risk, optimisation_data)"
   ]
  },
  {
   "cell_type": "code",
   "execution_count": 5,
   "metadata": {},
   "outputs": [],
   "source": [
    "data['all_nodes'] = data['all_nodes'][50:150]"
   ]
  },
  {
   "cell_type": "code",
   "execution_count": 6,
   "metadata": {},
   "outputs": [],
   "source": [
    "solver = pywraplp.Solver.CreateSolver('CBC')"
   ]
  },
  {
   "cell_type": "code",
   "execution_count": 7,
   "metadata": {},
   "outputs": [],
   "source": [
    "#\n",
    "\n",
    "x = {}\n",
    "\n",
    "for i in data['all_nodes']:\n",
    "    for b in data['all_vehicles']:\n",
    "        x[i, b] = solver.BoolVar(f'x_{i}_{b}')\n",
    "        \n",
    "# Constraints.\n",
    "# Each edge is assigned to at most one vehicle.\n",
    "\n",
    "for i in data['all_nodes']:\n",
    "    solver.Add(sum(x[i, b] for b in data['all_vehicles']) <= 1)\n",
    "\n",
    "# The depot must be visited by each vehicle.\n",
    "\n",
    "# Each vehicle's traveling time must exceed its min contraint 1 weeks.\n",
    "# Each vehicle's traveling time cannot exceed its max contraint 2 weeks.\n",
    "for b in data['all_vehicles']:\n",
    "    traveling_time = 0\n",
    "    traveling_time_list = []\n",
    "    for i in data['all_nodes']:\n",
    "        for j in data['all_nodes']:\n",
    "            traveling_time_list.append(x[i, b] * x[j, b] * data['edge_times'][i,j])\n",
    "            \n",
    "    traveling_time = sum(traveling_time_list)    \n",
    "    clearing_time =  sum(x[i, b] * data['node_times'][i] for i in data['all_nodes'])  \n",
    "    \n",
    "    time_per_vehicle = clearing_time  + traveling_time\n",
    "\n",
    "    solver.Add(time_per_vehicle >= data['vehicle_min_capacities'][b])\n",
    "\n",
    "    solver.Add(time_per_vehicle <= data['vehicle_max_capacities'][b])\n",
    "\n",
    "    \n",
    "# Objective\n",
    "# Maximize total risk\n",
    "\n",
    "objective = solver.Objective()\n",
    "for i in data['all_nodes']:\n",
    "    for b in data['all_vehicles']:\n",
    "        objective.SetCoefficient(x[i, b], data['values'][i])\n",
    "            \n",
    "objective.SetMaximization()\n",
    "\n",
    "        \n",
    "status = solver.Solve()"
   ]
  },
  {
   "cell_type": "code",
   "execution_count": 8,
   "metadata": {},
   "outputs": [
    {
     "data": {
      "text/plain": [
       "0.0"
      ]
     },
     "execution_count": 8,
     "metadata": {},
     "output_type": "execute_result"
    }
   ],
   "source": [
    "objective.Value()"
   ]
  },
  {
   "cell_type": "code",
   "execution_count": null,
   "metadata": {},
   "outputs": [],
   "source": [
    "if status == pywraplp.Solver.OPTIMAL:\n",
    "    print(f'Total risk value: {objective.Value()}')\n",
    "    total_risk = 0\n",
    "    for b in data['all_vehicles']:\n",
    "        print(f'Vehicle {b}')\n",
    "        vehicle_risk = 0\n",
    "        for i in data['all_nodes']:\n",
    "            if x[i, b].solution_value() > 0:\n",
    "                print(\n",
    "                    f\"Node {i} risk: {data['node_risks'][i]}\"\n",
    "                )\n",
    "                vehicle_risk += data['node_risks'][i]\n",
    "        print(f'Vehicles risk: {vehicle_risk}')\n",
    "\n",
    "        total_risk += vehicle_risk\n",
    "    print(f'Total risk value: {total_risk}')\n",
    "else:\n",
    "    print('The problem does not have an optimal solution.')"
   ]
  },
  {
   "cell_type": "code",
   "execution_count": null,
   "metadata": {},
   "outputs": [],
   "source": []
  }
 ],
 "metadata": {
  "kernelspec": {
   "display_name": "Python 3.8",
   "language": "python",
   "name": "py38"
  },
  "language_info": {
   "codemirror_mode": {
    "name": "ipython",
    "version": 3
   },
   "file_extension": ".py",
   "mimetype": "text/x-python",
   "name": "python",
   "nbconvert_exporter": "python",
   "pygments_lexer": "ipython3",
   "version": "3.8.3"
  }
 },
 "nbformat": 4,
 "nbformat_minor": 4
}
